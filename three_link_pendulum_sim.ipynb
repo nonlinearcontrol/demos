{
  "nbformat": 4,
  "nbformat_minor": 0,
  "metadata": {
    "colab": {
      "name": "three_link_pendulum_sim.ipynb",
      "version": "0.3.2",
      "provenance": []
    },
    "kernelspec": {
      "name": "python3",
      "display_name": "Python 3"
    }
  },
  "cells": [
    {
      "cell_type": "markdown",
      "metadata": {
        "id": "6BatQjvrhh_m",
        "colab_type": "text"
      },
      "source": [
        "# _3_link_pendulum_simulation"
      ]
    },
    {
      "cell_type": "markdown",
      "metadata": {
        "id": "lxlBLbkRhnLn",
        "colab_type": "text"
      },
      "source": [
        "This script creates a simulation for a triple 2D pendulum (no rod friction) by harcoding in the EOM data from:\n",
        "example_5_particle_kinetics_3_link_pendulum_create_eom.py"
      ]
    },
    {
      "cell_type": "markdown",
      "metadata": {
        "id": "iQLZOlinhpHa",
        "colab_type": "text"
      },
      "source": [
        "# dependencies"
      ]
    },
    {
      "cell_type": "code",
      "metadata": {
        "id": "oN31WsYfhqvG",
        "colab_type": "code",
        "colab": {}
      },
      "source": [
        "from numpy import arange, linspace, sin, cos, pi, rad2deg, deg2rad\n",
        "from scipy.integrate import solve_ivp\n",
        "import matplotlib.pyplot as plt\n",
        "import matplotlib.animation as animation"
      ],
      "execution_count": 0,
      "outputs": []
    },
    {
      "cell_type": "markdown",
      "metadata": {
        "id": "WRRXikFchtAi",
        "colab_type": "text"
      },
      "source": [
        "# initialize inital conditions"
      ]
    },
    {
      "cell_type": "code",
      "metadata": {
        "id": "VsRORmPHhvKV",
        "colab_type": "code",
        "colab": {
          "base_uri": "https://localhost:8080/",
          "height": 34
        },
        "outputId": "1904a3d0-778f-4d91-97ec-99a743effb73"
      },
      "source": [
        "# define the parameters for simulation\n",
        "m1, m2, m3 = 1.0, 1.0, 1.0 # [kg] set the masses of each pendulum 'mass'\n",
        "L1, L2, L3 = 1.0, 1.0, 1.0 # [m] set the length of the each pendulum rod\n",
        "g = 9.81 # [m/s^2] set the gravitational force constant\n",
        "\n",
        "# set the initial state position vector\n",
        "q0_1, q0_2, q0_3 = deg2rad(180.0), deg2rad(90.0), deg2rad(270.0)\n",
        "q_init = [q0_1, q0_2, q0_3]\n",
        "\n",
        "# set the initial state velocity vector\n",
        "qd0_1, qd0_2, qd0_3 = 0, 0, 0\n",
        "qd_init = [qd0_1, qd0_2, qd0_3]\n",
        "\n",
        "# set the initial full state vector for the pendulum system:\n",
        "state0 = [q_init, qd_init] # create a list of lists for the initial state vector\n",
        "state0 = [item for sublist in state0 for item in sublist] # flatten the full state vector into a single list\n",
        "\n",
        "# define time parameters\n",
        "T = 150.0 # set the length of time of simulation\n",
        "dt = 0.05 # determine the timestep for simulation\n",
        "t = linspace(0.0, T, T/dt) # determine the time vector for simulation\n",
        "t_span = [0, T] # determine the time span list for solving the ODE\n",
        "\n",
        "# set the initial figure number\n",
        "fgn = 1"
      ],
      "execution_count": 2,
      "outputs": [
        {
          "output_type": "stream",
          "text": [
            "/usr/local/lib/python3.6/dist-packages/ipykernel_launcher.py:20: DeprecationWarning: object of type <class 'float'> cannot be safely interpreted as an integer.\n"
          ],
          "name": "stderr"
        }
      ]
    },
    {
      "cell_type": "markdown",
      "metadata": {
        "id": "c55B08Dvh5UI",
        "colab_type": "text"
      },
      "source": [
        "# create the state vector state = [pendulum positions [rad, rad, rad], pendulum velocities [rad/s, rad/s, rad/s]]"
      ]
    },
    {
      "cell_type": "code",
      "metadata": {
        "id": "aezR90M_h712",
        "colab_type": "code",
        "colab": {}
      },
      "source": [
        "def create_triple_pendulum_stated(t, state):\n",
        "\n",
        "\t# initialize q_dot parameters & implement the dynamic equations of motion\n",
        "\tqd1 = state[3] # qd1 (angular velocity state of pendulum 1) is equal to q[3] (angular velocity state of pendulum 1)\n",
        "\tqd2 = state[4] # qd2 (angular velocity state of pendulum 2) is equal to q[4] (angular velocity state of pendulum 2)\n",
        "\tqd3 = state[5] # qd3 (angular velocity state of pendulum 3) is equal to q[5] (angular velocity state of pendulum 3)\n",
        "\tqdd1 = -(L1*L3*m3*((L2**2*m3 + L2**2*m3)*(L1**2*m3 + L1**2*m3 + L1**2*m3) - (L1*L2*m3*(sin(state[0])*sin(state[1]) + cos(state[0])*cos(state[1])) + L1*L2*m3*(sin(state[0])*sin(state[1]) + cos(state[0])*cos(state[1])))**2)*(sin(state[0])*sin(state[2]) + cos(state[0])*cos(state[2])) - (L1*L2*m3*(sin(state[0])*sin(state[1]) + cos(state[0])*cos(state[1])) + L1*L2*m3*(sin(state[0])*sin(state[1]) + cos(state[0])*cos(state[1])))*(-L1*L3*m3*(sin(state[0])*sin(state[2]) + cos(state[0])*cos(state[2]))*(L1*L2*m3*(sin(state[0])*sin(state[1]) + cos(state[0])*cos(state[1])) + L1*L2*m3*(sin(state[0])*sin(state[1]) + cos(state[0])*cos(state[1]))) + L2*L3*m3*(sin(state[1])*sin(state[2]) + cos(state[1])*cos(state[2]))*(L1**2*m3 + L1**2*m3 + L1**2*m3)))*(-g*L3*m3*sin(state[2]) + L1*L3*m3*(sin(state[0])*cos(state[2]) - sin(state[2])*cos(state[0]))*state[3]**2 + L2*L3*m3*(sin(state[1])*cos(state[2]) - sin(state[2])*cos(state[1]))*state[4]**2)/(((L2**2*m3 + L2**2*m3)*(L1**2*m3 + L1**2*m3 + L1**2*m3) - (L1*L2*m3*(sin(state[0])*sin(state[1]) + cos(state[0])*cos(state[1])) + L1*L2*m3*(sin(state[0])*sin(state[1]) + cos(state[0])*cos(state[1])))**2)*(-L1**2*L3**2*m3**2*(sin(state[0])*sin(state[2]) + cos(state[0])*cos(state[2]))**2 + L3**2*m3*(L1**2*m3 + L1**2*m3 + L1**2*m3)) - (-L1*L3*m3*(sin(state[0])*sin(state[2]) + cos(state[0])*cos(state[2]))*(L1*L2*m3*(sin(state[0])*sin(state[1]) + cos(state[0])*cos(state[1])) + L1*L2*m3*(sin(state[0])*sin(state[1]) + cos(state[0])*cos(state[1]))) + L2*L3*m3*(sin(state[1])*sin(state[2]) + cos(state[1])*cos(state[2]))*(L1**2*m3 + L1**2*m3 + L1**2*m3))**2) + ((((L2**2*m3 + L2**2*m3)*(L1**2*m3 + L1**2*m3 + L1**2*m3) - (L1*L2*m3*(sin(state[0])*sin(state[1]) + cos(state[0])*cos(state[1])) + L1*L2*m3*(sin(state[0])*sin(state[1]) + cos(state[0])*cos(state[1])))**2)*(-L1**2*L3**2*m3**2*(sin(state[0])*sin(state[2]) + cos(state[0])*cos(state[2]))**2 + L3**2*m3*(L1**2*m3 + L1**2*m3 + L1**2*m3)) - (-L1*L3*m3*(sin(state[0])*sin(state[2]) + cos(state[0])*cos(state[2]))*(L1*L2*m3*(sin(state[0])*sin(state[1]) + cos(state[0])*cos(state[1])) + L1*L2*m3*(sin(state[0])*sin(state[1]) + cos(state[0])*cos(state[1]))) + L2*L3*m3*(sin(state[1])*sin(state[2]) + cos(state[1])*cos(state[2]))*(L1**2*m3 + L1**2*m3 + L1**2*m3))**2)*((L2**2*m3 + L2**2*m3)*(L1**2*m3 + L1**2*m3 + L1**2*m3) - (-L1*L2*m3*(sin(state[0])*sin(state[1]) + cos(state[0])*cos(state[1])) - L1*L2*m3*(sin(state[0])*sin(state[1]) + cos(state[0])*cos(state[1])))*(L1*L2*m3*(sin(state[0])*sin(state[1]) + cos(state[0])*cos(state[1])) + L1*L2*m3*(sin(state[0])*sin(state[1]) + cos(state[0])*cos(state[1]))) - (L1*L2*m3*(sin(state[0])*sin(state[1]) + cos(state[0])*cos(state[1])) + L1*L2*m3*(sin(state[0])*sin(state[1]) + cos(state[0])*cos(state[1])))**2) - (-L1*L3*m3*((L2**2*m3 + L2**2*m3)*(L1**2*m3 + L1**2*m3 + L1**2*m3) - (L1*L2*m3*(sin(state[0])*sin(state[1]) + cos(state[0])*cos(state[1])) + L1*L2*m3*(sin(state[0])*sin(state[1]) + cos(state[0])*cos(state[1])))**2)*(sin(state[0])*sin(state[2]) + cos(state[0])*cos(state[2])) - (-L1*L2*m3*(sin(state[0])*sin(state[1]) + cos(state[0])*cos(state[1])) - L1*L2*m3*(sin(state[0])*sin(state[1]) + cos(state[0])*cos(state[1])))*(-L1*L3*m3*(sin(state[0])*sin(state[2]) + cos(state[0])*cos(state[2]))*(L1*L2*m3*(sin(state[0])*sin(state[1]) + cos(state[0])*cos(state[1])) + L1*L2*m3*(sin(state[0])*sin(state[1]) + cos(state[0])*cos(state[1]))) + L2*L3*m3*(sin(state[1])*sin(state[2]) + cos(state[1])*cos(state[2]))*(L1**2*m3 + L1**2*m3 + L1**2*m3)))*(L1*L3*m3*((L2**2*m3 + L2**2*m3)*(L1**2*m3 + L1**2*m3 + L1**2*m3) - (L1*L2*m3*(sin(state[0])*sin(state[1]) + cos(state[0])*cos(state[1])) + L1*L2*m3*(sin(state[0])*sin(state[1]) + cos(state[0])*cos(state[1])))**2)*(sin(state[0])*sin(state[2]) + cos(state[0])*cos(state[2])) - (L1*L2*m3*(sin(state[0])*sin(state[1]) + cos(state[0])*cos(state[1])) + L1*L2*m3*(sin(state[0])*sin(state[1]) + cos(state[0])*cos(state[1])))*(-L1*L3*m3*(sin(state[0])*sin(state[2]) + cos(state[0])*cos(state[2]))*(L1*L2*m3*(sin(state[0])*sin(state[1]) + cos(state[0])*cos(state[1])) + L1*L2*m3*(sin(state[0])*sin(state[1]) + cos(state[0])*cos(state[1]))) + L2*L3*m3*(sin(state[1])*sin(state[2]) + cos(state[1])*cos(state[2]))*(L1**2*m3 + L1**2*m3 + L1**2*m3))))*(-g*L1*m3*sin(state[0]) - g*L1*m3*sin(state[0]) - g*L1*m3*sin(state[0]) + L1*L2*m3*(-sin(state[0])*cos(state[1]) + sin(state[1])*cos(state[0]))*state[4]**2 + L1*L2*m3*(-sin(state[0])*cos(state[1]) + sin(state[1])*cos(state[0]))*state[4]**2 + L1*L3*m3*(-sin(state[0])*cos(state[2]) + sin(state[2])*cos(state[0]))*state[5]**2)/(((L2**2*m3 + L2**2*m3)*(L1**2*m3 + L1**2*m3 + L1**2*m3) - (L1*L2*m3*(sin(state[0])*sin(state[1]) + cos(state[0])*cos(state[1])) + L1*L2*m3*(sin(state[0])*sin(state[1]) + cos(state[0])*cos(state[1])))**2)*(((L2**2*m3 + L2**2*m3)*(L1**2*m3 + L1**2*m3 + L1**2*m3) - (L1*L2*m3*(sin(state[0])*sin(state[1]) + cos(state[0])*cos(state[1])) + L1*L2*m3*(sin(state[0])*sin(state[1]) + cos(state[0])*cos(state[1])))**2)*(-L1**2*L3**2*m3**2*(sin(state[0])*sin(state[2]) + cos(state[0])*cos(state[2]))**2 + L3**2*m3*(L1**2*m3 + L1**2*m3 + L1**2*m3)) - (-L1*L3*m3*(sin(state[0])*sin(state[2]) + cos(state[0])*cos(state[2]))*(L1*L2*m3*(sin(state[0])*sin(state[1]) + cos(state[0])*cos(state[1])) + L1*L2*m3*(sin(state[0])*sin(state[1]) + cos(state[0])*cos(state[1]))) + L2*L3*m3*(sin(state[1])*sin(state[2]) + cos(state[1])*cos(state[2]))*(L1**2*m3 + L1**2*m3 + L1**2*m3))**2)*(L1**2*m3 + L1**2*m3 + L1**2*m3)) + (-(((L2**2*m3 + L2**2*m3)*(L1**2*m3 + L1**2*m3 + L1**2*m3) - (L1*L2*m3*(sin(state[0])*sin(state[1]) + cos(state[0])*cos(state[1])) + L1*L2*m3*(sin(state[0])*sin(state[1]) + cos(state[0])*cos(state[1])))**2)*(-L1**2*L3**2*m3**2*(sin(state[0])*sin(state[2]) + cos(state[0])*cos(state[2]))**2 + L3**2*m3*(L1**2*m3 + L1**2*m3 + L1**2*m3)) - (-L1*L3*m3*(sin(state[0])*sin(state[2]) + cos(state[0])*cos(state[2]))*(L1*L2*m3*(sin(state[0])*sin(state[1]) + cos(state[0])*cos(state[1])) + L1*L2*m3*(sin(state[0])*sin(state[1]) + cos(state[0])*cos(state[1]))) + L2*L3*m3*(sin(state[1])*sin(state[2]) + cos(state[1])*cos(state[2]))*(L1**2*m3 + L1**2*m3 + L1**2*m3))**2)*(L1*L2*m3*(sin(state[0])*sin(state[1]) + cos(state[0])*cos(state[1])) + L1*L2*m3*(sin(state[0])*sin(state[1]) + cos(state[0])*cos(state[1])))*(L1**2*m3 + L1**2*m3 + L1**2*m3) + (L1*L3*m3*((L2**2*m3 + L2**2*m3)*(L1**2*m3 + L1**2*m3 + L1**2*m3) - (L1*L2*m3*(sin(state[0])*sin(state[1]) + cos(state[0])*cos(state[1])) + L1*L2*m3*(sin(state[0])*sin(state[1]) + cos(state[0])*cos(state[1])))**2)*(sin(state[0])*sin(state[2]) + cos(state[0])*cos(state[2])) - (L1*L2*m3*(sin(state[0])*sin(state[1]) + cos(state[0])*cos(state[1])) + L1*L2*m3*(sin(state[0])*sin(state[1]) + cos(state[0])*cos(state[1])))*(-L1*L3*m3*(sin(state[0])*sin(state[2]) + cos(state[0])*cos(state[2]))*(L1*L2*m3*(sin(state[0])*sin(state[1]) + cos(state[0])*cos(state[1])) + L1*L2*m3*(sin(state[0])*sin(state[1]) + cos(state[0])*cos(state[1]))) + L2*L3*m3*(sin(state[1])*sin(state[2]) + cos(state[1])*cos(state[2]))*(L1**2*m3 + L1**2*m3 + L1**2*m3)))*(-L1*L3*m3*(sin(state[0])*sin(state[2]) + cos(state[0])*cos(state[2]))*(L1*L2*m3*(sin(state[0])*sin(state[1]) + cos(state[0])*cos(state[1])) + L1*L2*m3*(sin(state[0])*sin(state[1]) + cos(state[0])*cos(state[1]))) + L2*L3*m3*(sin(state[1])*sin(state[2]) + cos(state[1])*cos(state[2]))*(L1**2*m3 + L1**2*m3 + L1**2*m3))*(L1**2*m3 + L1**2*m3 + L1**2*m3))*(-g*L2*m3*sin(state[1]) - g*L2*m3*sin(state[1]) + L1*L2*m3*(sin(state[0])*cos(state[1]) - sin(state[1])*cos(state[0]))*state[3]**2 + L1*L2*m3*(sin(state[0])*cos(state[1]) - sin(state[1])*cos(state[0]))*state[3]**2 + L2*L3*m3*(-sin(state[1])*cos(state[2]) + sin(state[2])*cos(state[1]))*state[5]**2)/(((L2**2*m3 + L2**2*m3)*(L1**2*m3 + L1**2*m3 + L1**2*m3) - (L1*L2*m3*(sin(state[0])*sin(state[1]) + cos(state[0])*cos(state[1])) + L1*L2*m3*(sin(state[0])*sin(state[1]) + cos(state[0])*cos(state[1])))**2)*(((L2**2*m3 + L2**2*m3)*(L1**2*m3 + L1**2*m3 + L1**2*m3) - (L1*L2*m3*(sin(state[0])*sin(state[1]) + cos(state[0])*cos(state[1])) + L1*L2*m3*(sin(state[0])*sin(state[1]) + cos(state[0])*cos(state[1])))**2)*(-L1**2*L3**2*m3**2*(sin(state[0])*sin(state[2]) + cos(state[0])*cos(state[2]))**2 + L3**2*m3*(L1**2*m3 + L1**2*m3 + L1**2*m3)) - (-L1*L3*m3*(sin(state[0])*sin(state[2]) + cos(state[0])*cos(state[2]))*(L1*L2*m3*(sin(state[0])*sin(state[1]) + cos(state[0])*cos(state[1])) + L1*L2*m3*(sin(state[0])*sin(state[1]) + cos(state[0])*cos(state[1]))) + L2*L3*m3*(sin(state[1])*sin(state[2]) + cos(state[1])*cos(state[2]))*(L1**2*m3 + L1**2*m3 + L1**2*m3))**2)*(L1**2*m3 + L1**2*m3 + L1**2*m3))\n",
        "\tqdd2 = -(-L1*L3*m3*(sin(state[0])*sin(state[2]) + cos(state[0])*cos(state[2]))*(L1*L2*m3*(sin(state[0])*sin(state[1]) + cos(state[0])*cos(state[1])) + L1*L2*m3*(sin(state[0])*sin(state[1]) + cos(state[0])*cos(state[1]))) + L2*L3*m3*(sin(state[1])*sin(state[2]) + cos(state[1])*cos(state[2]))*(L1**2*m3 + L1**2*m3 + L1**2*m3))*(L1**2*m3 + L1**2*m3 + L1**2*m3)*(-g*L3*m3*sin(state[2]) + L1*L3*m3*(sin(state[0])*cos(state[2]) - sin(state[2])*cos(state[0]))*state[3]**2 + L2*L3*m3*(sin(state[1])*cos(state[2]) - sin(state[2])*cos(state[1]))*state[4]**2)/(((L2**2*m3 + L2**2*m3)*(L1**2*m3 + L1**2*m3 + L1**2*m3) - (L1*L2*m3*(sin(state[0])*sin(state[1]) + cos(state[0])*cos(state[1])) + L1*L2*m3*(sin(state[0])*sin(state[1]) + cos(state[0])*cos(state[1])))**2)*(-L1**2*L3**2*m3**2*(sin(state[0])*sin(state[2]) + cos(state[0])*cos(state[2]))**2 + L3**2*m3*(L1**2*m3 + L1**2*m3 + L1**2*m3)) - (-L1*L3*m3*(sin(state[0])*sin(state[2]) + cos(state[0])*cos(state[2]))*(L1*L2*m3*(sin(state[0])*sin(state[1]) + cos(state[0])*cos(state[1])) + L1*L2*m3*(sin(state[0])*sin(state[1]) + cos(state[0])*cos(state[1]))) + L2*L3*m3*(sin(state[1])*sin(state[2]) + cos(state[1])*cos(state[2]))*(L1**2*m3 + L1**2*m3 + L1**2*m3))**2) + ((((L2**2*m3 + L2**2*m3)*(L1**2*m3 + L1**2*m3 + L1**2*m3) - (L1*L2*m3*(sin(state[0])*sin(state[1]) + cos(state[0])*cos(state[1])) + L1*L2*m3*(sin(state[0])*sin(state[1]) + cos(state[0])*cos(state[1])))**2)*(-L1**2*L3**2*m3**2*(sin(state[0])*sin(state[2]) + cos(state[0])*cos(state[2]))**2 + L3**2*m3*(L1**2*m3 + L1**2*m3 + L1**2*m3)) - (-L1*L3*m3*(sin(state[0])*sin(state[2]) + cos(state[0])*cos(state[2]))*(L1*L2*m3*(sin(state[0])*sin(state[1]) + cos(state[0])*cos(state[1])) + L1*L2*m3*(sin(state[0])*sin(state[1]) + cos(state[0])*cos(state[1]))) + L2*L3*m3*(sin(state[1])*sin(state[2]) + cos(state[1])*cos(state[2]))*(L1**2*m3 + L1**2*m3 + L1**2*m3))**2)*(-L1*L2*m3*(sin(state[0])*sin(state[1]) + cos(state[0])*cos(state[1])) - L1*L2*m3*(sin(state[0])*sin(state[1]) + cos(state[0])*cos(state[1]))) - (-L1*L3*m3*((L2**2*m3 + L2**2*m3)*(L1**2*m3 + L1**2*m3 + L1**2*m3) - (L1*L2*m3*(sin(state[0])*sin(state[1]) + cos(state[0])*cos(state[1])) + L1*L2*m3*(sin(state[0])*sin(state[1]) + cos(state[0])*cos(state[1])))**2)*(sin(state[0])*sin(state[2]) + cos(state[0])*cos(state[2])) - (-L1*L2*m3*(sin(state[0])*sin(state[1]) + cos(state[0])*cos(state[1])) - L1*L2*m3*(sin(state[0])*sin(state[1]) + cos(state[0])*cos(state[1])))*(-L1*L3*m3*(sin(state[0])*sin(state[2]) + cos(state[0])*cos(state[2]))*(L1*L2*m3*(sin(state[0])*sin(state[1]) + cos(state[0])*cos(state[1])) + L1*L2*m3*(sin(state[0])*sin(state[1]) + cos(state[0])*cos(state[1]))) + L2*L3*m3*(sin(state[1])*sin(state[2]) + cos(state[1])*cos(state[2]))*(L1**2*m3 + L1**2*m3 + L1**2*m3)))*(-L1*L3*m3*(sin(state[0])*sin(state[2]) + cos(state[0])*cos(state[2]))*(L1*L2*m3*(sin(state[0])*sin(state[1]) + cos(state[0])*cos(state[1])) + L1*L2*m3*(sin(state[0])*sin(state[1]) + cos(state[0])*cos(state[1]))) + L2*L3*m3*(sin(state[1])*sin(state[2]) + cos(state[1])*cos(state[2]))*(L1**2*m3 + L1**2*m3 + L1**2*m3)))*(-g*L1*m3*sin(state[0]) - g*L1*m3*sin(state[0]) - g*L1*m3*sin(state[0]) + L1*L2*m3*(-sin(state[0])*cos(state[1]) + sin(state[1])*cos(state[0]))*state[4]**2 + L1*L2*m3*(-sin(state[0])*cos(state[1]) + sin(state[1])*cos(state[0]))*state[4]**2 + L1*L3*m3*(-sin(state[0])*cos(state[2]) + sin(state[2])*cos(state[0]))*state[5]**2)/(((L2**2*m3 + L2**2*m3)*(L1**2*m3 + L1**2*m3 + L1**2*m3) - (L1*L2*m3*(sin(state[0])*sin(state[1]) + cos(state[0])*cos(state[1])) + L1*L2*m3*(sin(state[0])*sin(state[1]) + cos(state[0])*cos(state[1])))**2)*(((L2**2*m3 + L2**2*m3)*(L1**2*m3 + L1**2*m3 + L1**2*m3) - (L1*L2*m3*(sin(state[0])*sin(state[1]) + cos(state[0])*cos(state[1])) + L1*L2*m3*(sin(state[0])*sin(state[1]) + cos(state[0])*cos(state[1])))**2)*(-L1**2*L3**2*m3**2*(sin(state[0])*sin(state[2]) + cos(state[0])*cos(state[2]))**2 + L3**2*m3*(L1**2*m3 + L1**2*m3 + L1**2*m3)) - (-L1*L3*m3*(sin(state[0])*sin(state[2]) + cos(state[0])*cos(state[2]))*(L1*L2*m3*(sin(state[0])*sin(state[1]) + cos(state[0])*cos(state[1])) + L1*L2*m3*(sin(state[0])*sin(state[1]) + cos(state[0])*cos(state[1]))) + L2*L3*m3*(sin(state[1])*sin(state[2]) + cos(state[1])*cos(state[2]))*(L1**2*m3 + L1**2*m3 + L1**2*m3))**2)) + ((((L2**2*m3 + L2**2*m3)*(L1**2*m3 + L1**2*m3 + L1**2*m3) - (L1*L2*m3*(sin(state[0])*sin(state[1]) + cos(state[0])*cos(state[1])) + L1*L2*m3*(sin(state[0])*sin(state[1]) + cos(state[0])*cos(state[1])))**2)*(-L1**2*L3**2*m3**2*(sin(state[0])*sin(state[2]) + cos(state[0])*cos(state[2]))**2 + L3**2*m3*(L1**2*m3 + L1**2*m3 + L1**2*m3)) - (-L1*L3*m3*(sin(state[0])*sin(state[2]) + cos(state[0])*cos(state[2]))*(L1*L2*m3*(sin(state[0])*sin(state[1]) + cos(state[0])*cos(state[1])) + L1*L2*m3*(sin(state[0])*sin(state[1]) + cos(state[0])*cos(state[1]))) + L2*L3*m3*(sin(state[1])*sin(state[2]) + cos(state[1])*cos(state[2]))*(L1**2*m3 + L1**2*m3 + L1**2*m3))**2)*(L1**2*m3 + L1**2*m3 + L1**2*m3) + (-L1*L3*m3*(sin(state[0])*sin(state[2]) + cos(state[0])*cos(state[2]))*(L1*L2*m3*(sin(state[0])*sin(state[1]) + cos(state[0])*cos(state[1])) + L1*L2*m3*(sin(state[0])*sin(state[1]) + cos(state[0])*cos(state[1]))) + L2*L3*m3*(sin(state[1])*sin(state[2]) + cos(state[1])*cos(state[2]))*(L1**2*m3 + L1**2*m3 + L1**2*m3))**2*(L1**2*m3 + L1**2*m3 + L1**2*m3))*(-g*L2*m3*sin(state[1]) - g*L2*m3*sin(state[1]) + L1*L2*m3*(sin(state[0])*cos(state[1]) - sin(state[1])*cos(state[0]))*state[3]**2 + L1*L2*m3*(sin(state[0])*cos(state[1]) - sin(state[1])*cos(state[0]))*state[3]**2 + L2*L3*m3*(-sin(state[1])*cos(state[2]) + sin(state[2])*cos(state[1]))*state[5]**2)/(((L2**2*m3 + L2**2*m3)*(L1**2*m3 + L1**2*m3 + L1**2*m3) - (L1*L2*m3*(sin(state[0])*sin(state[1]) + cos(state[0])*cos(state[1])) + L1*L2*m3*(sin(state[0])*sin(state[1]) + cos(state[0])*cos(state[1])))**2)*(((L2**2*m3 + L2**2*m3)*(L1**2*m3 + L1**2*m3 + L1**2*m3) - (L1*L2*m3*(sin(state[0])*sin(state[1]) + cos(state[0])*cos(state[1])) + L1*L2*m3*(sin(state[0])*sin(state[1]) + cos(state[0])*cos(state[1])))**2)*(-L1**2*L3**2*m3**2*(sin(state[0])*sin(state[2]) + cos(state[0])*cos(state[2]))**2 + L3**2*m3*(L1**2*m3 + L1**2*m3 + L1**2*m3)) - (-L1*L3*m3*(sin(state[0])*sin(state[2]) + cos(state[0])*cos(state[2]))*(L1*L2*m3*(sin(state[0])*sin(state[1]) + cos(state[0])*cos(state[1])) + L1*L2*m3*(sin(state[0])*sin(state[1]) + cos(state[0])*cos(state[1]))) + L2*L3*m3*(sin(state[1])*sin(state[2]) + cos(state[1])*cos(state[2]))*(L1**2*m3 + L1**2*m3 + L1**2*m3))**2))\n",
        "\tqdd3 = ((L2**2*m3 + L2**2*m3)*(L1**2*m3 + L1**2*m3 + L1**2*m3) - (L1*L2*m3*(sin(state[0])*sin(state[1]) + cos(state[0])*cos(state[1])) + L1*L2*m3*(sin(state[0])*sin(state[1]) + cos(state[0])*cos(state[1])))**2)*(L1**2*m3 + L1**2*m3 + L1**2*m3)*(-g*L3*m3*sin(state[2]) + L1*L3*m3*(sin(state[0])*cos(state[2]) - sin(state[2])*cos(state[0]))*state[3]**2 + L2*L3*m3*(sin(state[1])*cos(state[2]) - sin(state[2])*cos(state[1]))*state[4]**2)/(((L2**2*m3 + L2**2*m3)*(L1**2*m3 + L1**2*m3 + L1**2*m3) - (L1*L2*m3*(sin(state[0])*sin(state[1]) + cos(state[0])*cos(state[1])) + L1*L2*m3*(sin(state[0])*sin(state[1]) + cos(state[0])*cos(state[1])))**2)*(-L1**2*L3**2*m3**2*(sin(state[0])*sin(state[2]) + cos(state[0])*cos(state[2]))**2 + L3**2*m3*(L1**2*m3 + L1**2*m3 + L1**2*m3)) - (-L1*L3*m3*(sin(state[0])*sin(state[2]) + cos(state[0])*cos(state[2]))*(L1*L2*m3*(sin(state[0])*sin(state[1]) + cos(state[0])*cos(state[1])) + L1*L2*m3*(sin(state[0])*sin(state[1]) + cos(state[0])*cos(state[1]))) + L2*L3*m3*(sin(state[1])*sin(state[2]) + cos(state[1])*cos(state[2]))*(L1**2*m3 + L1**2*m3 + L1**2*m3))**2) + (-L1*L3*m3*((L2**2*m3 + L2**2*m3)*(L1**2*m3 + L1**2*m3 + L1**2*m3) - (L1*L2*m3*(sin(state[0])*sin(state[1]) + cos(state[0])*cos(state[1])) + L1*L2*m3*(sin(state[0])*sin(state[1]) + cos(state[0])*cos(state[1])))**2)*(sin(state[0])*sin(state[2]) + cos(state[0])*cos(state[2])) - (-L1*L2*m3*(sin(state[0])*sin(state[1]) + cos(state[0])*cos(state[1])) - L1*L2*m3*(sin(state[0])*sin(state[1]) + cos(state[0])*cos(state[1])))*(-L1*L3*m3*(sin(state[0])*sin(state[2]) + cos(state[0])*cos(state[2]))*(L1*L2*m3*(sin(state[0])*sin(state[1]) + cos(state[0])*cos(state[1])) + L1*L2*m3*(sin(state[0])*sin(state[1]) + cos(state[0])*cos(state[1]))) + L2*L3*m3*(sin(state[1])*sin(state[2]) + cos(state[1])*cos(state[2]))*(L1**2*m3 + L1**2*m3 + L1**2*m3)))*(-g*L1*m3*sin(state[0]) - g*L1*m3*sin(state[0]) - g*L1*m3*sin(state[0]) + L1*L2*m3*(-sin(state[0])*cos(state[1]) + sin(state[1])*cos(state[0]))*state[4]**2 + L1*L2*m3*(-sin(state[0])*cos(state[1]) + sin(state[1])*cos(state[0]))*state[4]**2 + L1*L3*m3*(-sin(state[0])*cos(state[2]) + sin(state[2])*cos(state[0]))*state[5]**2)/(((L2**2*m3 + L2**2*m3)*(L1**2*m3 + L1**2*m3 + L1**2*m3) - (L1*L2*m3*(sin(state[0])*sin(state[1]) + cos(state[0])*cos(state[1])) + L1*L2*m3*(sin(state[0])*sin(state[1]) + cos(state[0])*cos(state[1])))**2)*(-L1**2*L3**2*m3**2*(sin(state[0])*sin(state[2]) + cos(state[0])*cos(state[2]))**2 + L3**2*m3*(L1**2*m3 + L1**2*m3 + L1**2*m3)) - (-L1*L3*m3*(sin(state[0])*sin(state[2]) + cos(state[0])*cos(state[2]))*(L1*L2*m3*(sin(state[0])*sin(state[1]) + cos(state[0])*cos(state[1])) + L1*L2*m3*(sin(state[0])*sin(state[1]) + cos(state[0])*cos(state[1]))) + L2*L3*m3*(sin(state[1])*sin(state[2]) + cos(state[1])*cos(state[2]))*(L1**2*m3 + L1**2*m3 + L1**2*m3))**2) - (-L1*L3*m3*(sin(state[0])*sin(state[2]) + cos(state[0])*cos(state[2]))*(L1*L2*m3*(sin(state[0])*sin(state[1]) + cos(state[0])*cos(state[1])) + L1*L2*m3*(sin(state[0])*sin(state[1]) + cos(state[0])*cos(state[1]))) + L2*L3*m3*(sin(state[1])*sin(state[2]) + cos(state[1])*cos(state[2]))*(L1**2*m3 + L1**2*m3 + L1**2*m3))*(L1**2*m3 + L1**2*m3 + L1**2*m3)*(-g*L2*m3*sin(state[1]) - g*L2*m3*sin(state[1]) + L1*L2*m3*(sin(state[0])*cos(state[1]) - sin(state[1])*cos(state[0]))*state[3]**2 + L1*L2*m3*(sin(state[0])*cos(state[1]) - sin(state[1])*cos(state[0]))*state[3]**2 + L2*L3*m3*(-sin(state[1])*cos(state[2]) + sin(state[2])*cos(state[1]))*state[5]**2)/(((L2**2*m3 + L2**2*m3)*(L1**2*m3 + L1**2*m3 + L1**2*m3) - (L1*L2*m3*(sin(state[0])*sin(state[1]) + cos(state[0])*cos(state[1])) + L1*L2*m3*(sin(state[0])*sin(state[1]) + cos(state[0])*cos(state[1])))**2)*(-L1**2*L3**2*m3**2*(sin(state[0])*sin(state[2]) + cos(state[0])*cos(state[2]))**2 + L3**2*m3*(L1**2*m3 + L1**2*m3 + L1**2*m3)) - (-L1*L3*m3*(sin(state[0])*sin(state[2]) + cos(state[0])*cos(state[2]))*(L1*L2*m3*(sin(state[0])*sin(state[1]) + cos(state[0])*cos(state[1])) + L1*L2*m3*(sin(state[0])*sin(state[1]) + cos(state[0])*cos(state[1]))) + L2*L3*m3*(sin(state[1])*sin(state[2]) + cos(state[1])*cos(state[2]))*(L1**2*m3 + L1**2*m3 + L1**2*m3))**2)\n",
        "\tstated = [qd1, qd2, qd3, qdd1, qdd2, qdd3] # stated = [mass angular vel [rad/s], mass angular accel [rad/s^2]] for each pendulum\n",
        "\treturn stated"
      ],
      "execution_count": 0,
      "outputs": []
    },
    {
      "cell_type": "markdown",
      "metadata": {
        "id": "GpIG_FaHiBM8",
        "colab_type": "text"
      },
      "source": [
        "solve dq/dt for q(t) where q(t) = [angular position; angular velocity]"
      ]
    },
    {
      "cell_type": "code",
      "metadata": {
        "id": "iQhdDLrpiCod",
        "colab_type": "code",
        "colab": {}
      },
      "source": [
        "state = solve_ivp(create_triple_pendulum_stated, t_span, state0, t_eval = t) # integrate stated [pendulum angular velocities, pendulum angular accelerations] for state [pendulum angular positions, pendulum angular velocities]\n",
        "[q1, q2, q3, qd1, qd2, qd3] = [state.y[0, :], state.y[1, :], state.y[2, :], state.y[3, :], state.y[4, :], state.y[5, :]] # extract states from the state vector\n",
        "state = [q1, q2, q3, qd1, qd2, qd3] # rearrange states back into a state vector"
      ],
      "execution_count": 0,
      "outputs": []
    },
    {
      "cell_type": "markdown",
      "metadata": {
        "id": "NucHbgRwiFd2",
        "colab_type": "text"
      },
      "source": [
        "# plot the time responses of the state vector "
      ]
    },
    {
      "cell_type": "code",
      "metadata": {
        "id": "9PJRINUEiHL7",
        "colab_type": "code",
        "colab": {}
      },
      "source": [
        "# plot the time responses of the state vector\n",
        "fig = plt.figure(num = ('Figure '+ str(fgn) + ': Time Responses for the State Vector')) # create a blank figure and change its title\n",
        "plt.plot(t, q1, label = 'Angular position θ(t) [rad] for pendulum 1') # plot the angular position q1(t)\n",
        "plt.plot(t, qd1, label = 'Angular velocity θ_dot(t) [rad/sec] for pendulum 1') # plot the angular velocity qd1(t)\n",
        "plt.plot(t, q2, label = 'Angular position θ(t) [rad] for pendulum 2') # plot the angular position q2(t)\n",
        "plt.plot(t, qd2, label = 'Angular velocity θ_dot(t) [rad/sec] for pendulum 2') # plot the angular velocity qd2(t)\n",
        "plt.plot(t, q3, label = 'Angular position θ(t) [rad] for pendulum 3') # plot the angular position q3(t)\n",
        "plt.plot(t, qd3, label = 'Angular velocity θ_dot(t) [rad/sec] for pendulum 3') # plot the angular velocity qd3(t)\n",
        "plt.grid() # turn on the plot grid\n",
        "plt.title('Time Responses for the State Vector') # create a plot title\n",
        "plt.xlabel('Time(s)') # label the x axis\n",
        "plt.ylabel('Angular Disp.(rad) and Angular Vel.(rad/s)') # label the y axis\n",
        "plt.legend() # create a plot legend\n",
        "fgn += 1 # incrememnt the figure number\n",
        "plt.show() # show the current figure"
      ],
      "execution_count": 0,
      "outputs": []
    }
  ]
}