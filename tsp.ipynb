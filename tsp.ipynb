{
  "nbformat": 4,
  "nbformat_minor": 0,
  "metadata": {
    "colab": {
      "name": "tsp.ipynb",
      "version": "0.3.2",
      "provenance": [],
      "collapsed_sections": [],
      "toc_visible": true
    },
    "kernelspec": {
      "name": "python3",
      "display_name": "Python 3"
    },
    "accelerator": "GPU"
  },
  "cells": [
    {
      "cell_type": "markdown",
      "metadata": {
        "id": "jbiootqUa0RW",
        "colab_type": "text"
      },
      "source": [
        "# The Travelling Salesman Problem Genetic Algorithm"
      ]
    },
    {
      "cell_type": "markdown",
      "metadata": {
        "id": "grA-V5oea5M9",
        "colab_type": "text"
      },
      "source": [
        "# Imports"
      ]
    },
    {
      "cell_type": "code",
      "metadata": {
        "id": "6JHEa-k0bD_2",
        "colab_type": "code",
        "colab": {}
      },
      "source": [
        "from numpy import array, linspace, pi, sqrt, repeat\n",
        "from random import random, uniform, sample\n",
        "from pandas import DataFrame\n",
        "from operator import itemgetter\n",
        "import matplotlib.pyplot as plt\n",
        "import itertools\n",
        "import warnings\n",
        "warnings.filterwarnings('ignore')\n"
      ],
      "execution_count": 0,
      "outputs": []
    },
    {
      "cell_type": "markdown",
      "metadata": {
        "id": "Hs_L0sm9a9MU",
        "colab_type": "text"
      },
      "source": [
        "# Create node data"
      ]
    },
    {
      "cell_type": "markdown",
      "metadata": {
        "id": "atL--t8zbc9b",
        "colab_type": "text"
      },
      "source": [
        "initial conditions"
      ]
    },
    {
      "cell_type": "code",
      "metadata": {
        "id": "Wa99EFTSbBM9",
        "colab_type": "code",
        "colab": {}
      },
      "source": [
        "nodes = 50\n",
        "node_list = []"
      ],
      "execution_count": 0,
      "outputs": []
    },
    {
      "cell_type": "markdown",
      "metadata": {
        "id": "KpZPXMUjbgAf",
        "colab_type": "text"
      },
      "source": [
        "function to create x,y node data"
      ]
    },
    {
      "cell_type": "code",
      "metadata": {
        "id": "s5AG3TW9biB7",
        "colab_type": "code",
        "colab": {}
      },
      "source": [
        "def create_node(x, y):\n",
        "\treturn x, y"
      ],
      "execution_count": 0,
      "outputs": []
    },
    {
      "cell_type": "markdown",
      "metadata": {
        "id": "Gx-wtroFbkpx",
        "colab_type": "text"
      },
      "source": [
        "create a list of random nodes"
      ]
    },
    {
      "cell_type": "code",
      "metadata": {
        "id": "L7T-jcJKbnol",
        "colab_type": "code",
        "colab": {}
      },
      "source": [
        "for i in range(nodes):\n",
        "\tnode_list.append(create_node(x = random()*10, y = random()*10))"
      ],
      "execution_count": 0,
      "outputs": []
    },
    {
      "cell_type": "markdown",
      "metadata": {
        "id": "uaenlkNRbr7z",
        "colab_type": "text"
      },
      "source": [
        "# Algorithm Implementation"
      ]
    },
    {
      "cell_type": "markdown",
      "metadata": {
        "id": "DqdSMctJbvE3",
        "colab_type": "text"
      },
      "source": [
        "define the linear distance between two nodes"
      ]
    },
    {
      "cell_type": "code",
      "metadata": {
        "id": "5jGLvBzJbw7D",
        "colab_type": "code",
        "colab": {}
      },
      "source": [
        "def linear_distance(from_node, to_node):\n",
        "\tx_distance = abs(from_node[0] - to_node[0])\n",
        "\ty_distance = abs(from_node[1] - to_node[1])\n",
        "\tdistance = sqrt((x_distance)**2 + (y_distance)**2)\n",
        "\treturn distance"
      ],
      "execution_count": 0,
      "outputs": []
    },
    {
      "cell_type": "markdown",
      "metadata": {
        "id": "G11O_CnHbzl3",
        "colab_type": "text"
      },
      "source": [
        "define the route distance as the sum of the linear distances: dist(node[0] to node[1]) + dist(node[1] to node[2]) + ...... + dist(node[-1] to node[0])"
      ]
    },
    {
      "cell_type": "code",
      "metadata": {
        "id": "wyUMvIMHbz-j",
        "colab_type": "code",
        "colab": {}
      },
      "source": [
        "def route_distance(node_list):\n",
        "\tdistance = 0\n",
        "\tif distance == 0:\n",
        "\t\tpath_distance = 0\n",
        "\t\tfor i in range(len(node_list)):\n",
        "\t\t\tfrom_node = node_list[i]\n",
        "\t\t\tto_node = None\n",
        "\t\t\tif i + 1 < len(node_list):\n",
        "\t\t\t\tto_node = node_list[i + 1]\n",
        "\t\t\telse:\n",
        "\t\t\t\tto_node = node_list[0]\n",
        "\t\t\tpath_distance += linear_distance(from_node, to_node)\n",
        "\t\tdistance = path_distance\n",
        "\treturn distance"
      ],
      "execution_count": 0,
      "outputs": []
    },
    {
      "cell_type": "markdown",
      "metadata": {
        "id": "ixMxgi3xb2Gm",
        "colab_type": "text"
      },
      "source": [
        "define route fitness (fitness = 1 / route_distance) --> the smaller the route_distance, the higher the fitness"
      ]
    },
    {
      "cell_type": "code",
      "metadata": {
        "id": "SEQl-ADWb30D",
        "colab_type": "code",
        "colab": {}
      },
      "source": [
        "def route_fitness(node_list):\n",
        "\tfitness = 0.0\n",
        "\tif fitness == 0:\n",
        "\t\tfitness = 1 / float(route_distance(node_list))\n",
        "\treturn fitness"
      ],
      "execution_count": 0,
      "outputs": []
    },
    {
      "cell_type": "markdown",
      "metadata": {
        "id": "WqdZ754lb6yU",
        "colab_type": "text"
      },
      "source": [
        "create a randomized route of nodes sampled from the node_list:"
      ]
    },
    {
      "cell_type": "code",
      "metadata": {
        "id": "i0IIQQCzb8Pn",
        "colab_type": "code",
        "colab": {}
      },
      "source": [
        "def create_route(node_list):\n",
        "\troute = sample(node_list, len(node_list))\n",
        "\treturn route\n"
      ],
      "execution_count": 0,
      "outputs": []
    },
    {
      "cell_type": "markdown",
      "metadata": {
        "id": "Hi8Vby5wb920",
        "colab_type": "text"
      },
      "source": [
        "create an initial population (first generation of chromosones) of random routes"
      ]
    },
    {
      "cell_type": "code",
      "metadata": {
        "id": "nmDoE66bb-4k",
        "colab_type": "code",
        "colab": {}
      },
      "source": [
        "def initial_population(population_size, node_list):\n",
        "\tpopulation = []\n",
        "\tfor i in range(population_size):\n",
        "\t\tpopulation.append(create_route(node_list))\n",
        "\treturn population"
      ],
      "execution_count": 0,
      "outputs": []
    },
    {
      "cell_type": "markdown",
      "metadata": {
        "id": "flZr6w0acAmA",
        "colab_type": "text"
      },
      "source": [
        "determine the fitness for each route in the population, then rank them"
      ]
    },
    {
      "cell_type": "code",
      "metadata": {
        "id": "9zBIPKSMcBq6",
        "colab_type": "code",
        "colab": {}
      },
      "source": [
        "def rank_routes(population):\n",
        "\tfitness_results = {}\n",
        "\tfor i in range(len(population)):\n",
        "\t\tfitness_results[i] = route_fitness(population[i])\n",
        "\treturn sorted(fitness_results.items(), key = itemgetter(1), reverse = True)"
      ],
      "execution_count": 0,
      "outputs": []
    },
    {
      "cell_type": "markdown",
      "metadata": {
        "id": "JISEE0yBcDPL",
        "colab_type": "text"
      },
      "source": [
        "create the selection method for being chromosones to the mating pool"
      ]
    },
    {
      "cell_type": "code",
      "metadata": {
        "id": "wELCWA7rcEpJ",
        "colab_type": "code",
        "colab": {}
      },
      "source": [
        "def selection(rank, elite_size):\n",
        "\tselection_results = []\n",
        "\tdf = DataFrame(array(rank), columns = ['Index', 'Fitness'])\n",
        "\tdf['Cum_Sum'] = df.Fitness.cumsum()\n",
        "\tdf['Cum_Percent'] = (df.Cum_Sum / df.Fitness.sum())*100\n",
        "\tfor i in range(elite_size):\n",
        "\t\tselection_results.append(rank[i][0])\n",
        "\tfor i in range(len(rank) - elite_size):\n",
        "\t\tpick = random()*100\n",
        "\t\tfor i in range(len(rank)):\n",
        "\t\t\tif pick <= df.iat[i, 3]:\n",
        "\t\t\t\tselection_results.append(rank[i][0])\n",
        "\t\t\t\tbreak\n",
        "\treturn selection_results"
      ],
      "execution_count": 0,
      "outputs": []
    },
    {
      "cell_type": "markdown",
      "metadata": {
        "id": "IL5VNHeYcIUo",
        "colab_type": "text"
      },
      "source": [
        "extract the selected chromosones into a mating pool"
      ]
    },
    {
      "cell_type": "code",
      "metadata": {
        "id": "fT3Ml-cFcJgg",
        "colab_type": "code",
        "colab": {}
      },
      "source": [
        "def mating_pool(population, selection_results):\n",
        "\tmating_pool = []\n",
        "\tfor i in range(len(selection_results)):\n",
        "\t\tindex = selection_results[i]\n",
        "\t\tmating_pool.append(population[index])\n",
        "\treturn mating_pool"
      ],
      "execution_count": 0,
      "outputs": []
    },
    {
      "cell_type": "markdown",
      "metadata": {
        "id": "aNNtu18QcLHI",
        "colab_type": "text"
      },
      "source": [
        "create a child through crossover breeding"
      ]
    },
    {
      "cell_type": "code",
      "metadata": {
        "id": "_L7SQ-CCcMSZ",
        "colab_type": "code",
        "colab": {}
      },
      "source": [
        "def breed(mom, dad):\n",
        "\tchild = []\n",
        "\tchild_mom = []\n",
        "\tchild_dad = []\n",
        "\tgene_mom = int(random()*len(mom))\n",
        "\tgene_dad = int(random()*len(dad))\n",
        "\tstart_gene = min(gene_mom, gene_dad)\n",
        "\tend_gene = max(gene_mom, gene_dad)\n",
        "\tfor i in range(start_gene, end_gene):\n",
        "\t\tchild_mom.append(mom[i])\n",
        "\tchild_dad = [i for i in dad if i not in child_mom]\n",
        "\tchild = child_mom + child_dad\n",
        "\treturn child\n"
      ],
      "execution_count": 0,
      "outputs": []
    },
    {
      "cell_type": "markdown",
      "metadata": {
        "id": "gRK728tzcNns",
        "colab_type": "text"
      },
      "source": [
        "breed the entire population"
      ]
    },
    {
      "cell_type": "code",
      "metadata": {
        "id": "syp0X0JJcPXu",
        "colab_type": "code",
        "colab": {}
      },
      "source": [
        "def breed_population(mating_pool, elite_size):\n",
        "\tchildren = []\n",
        "\tlength = len(mating_pool) - elite_size\n",
        "\tpool = sample(mating_pool, len(mating_pool))\n",
        "\tfor i in range(elite_size):\n",
        "\t\tchildren.append(mating_pool[i])\n",
        "\tfor i in range(length):\n",
        "\t\tchild = breed(pool[i], pool[len(mating_pool) - i - 1])\n",
        "\t\tchildren.append(child)\n",
        "\treturn children"
      ],
      "execution_count": 0,
      "outputs": []
    },
    {
      "cell_type": "markdown",
      "metadata": {
        "id": "CyxzyjDOcRun",
        "colab_type": "text"
      },
      "source": [
        "create a mutation using swapping --> two cities potentially swap places"
      ]
    },
    {
      "cell_type": "code",
      "metadata": {
        "id": "BnTNrvnpcR_F",
        "colab_type": "code",
        "colab": {}
      },
      "source": [
        "def mutate(individual, mutation_rate):\n",
        "\tfor swapped in range(len(individual)):\n",
        "\t\tif random() < mutation_rate:\n",
        "\t\t\tswap_with = int(random()*len(individual))\n",
        "\t\t\tnode1 = individual[swapped]\n",
        "\t\t\tnode2 = individual[swap_with]\n",
        "\t\t\tindividual[swapped] = node2\n",
        "\t\t\tindividual[swap_with] = node1\n",
        "\treturn individual"
      ],
      "execution_count": 0,
      "outputs": []
    },
    {
      "cell_type": "markdown",
      "metadata": {
        "id": "CTUZ4DVycUR1",
        "colab_type": "text"
      },
      "source": [
        "mutate the entire population of chromosones"
      ]
    },
    {
      "cell_type": "code",
      "metadata": {
        "id": "2N2tkN9lcVM3",
        "colab_type": "code",
        "colab": {}
      },
      "source": [
        "def mutate_population(population, mutation_rate):\n",
        "\tmutated_population = []\n",
        "\tfor i in range(len(population)):\n",
        "\t\tmutated_index = mutate(population[i], mutation_rate)\n",
        "\t\tmutated_population.append(mutated_index)\n",
        "\treturn mutated_population"
      ],
      "execution_count": 0,
      "outputs": []
    },
    {
      "cell_type": "markdown",
      "metadata": {
        "id": "evPZIOuzcZKt",
        "colab_type": "text"
      },
      "source": [
        "produce a new generation of chromosones based on breeding the population with potential mutations"
      ]
    },
    {
      "cell_type": "code",
      "metadata": {
        "id": "mkCA2sTIcaS8",
        "colab_type": "code",
        "colab": {}
      },
      "source": [
        "def next_generation(current_generation, elite_size, mutation_rate):\n",
        "\trank = rank_routes(current_generation)\n",
        "\tselection_results = selection(rank, elite_size)\n",
        "\tmatingpool = mating_pool(current_generation, selection_results)\n",
        "\tchildren = breed_population(matingpool, elite_size)\n",
        "\tnext_generation = mutate_population(children, mutation_rate)\n",
        "\treturn next_generation\n"
      ],
      "execution_count": 0,
      "outputs": []
    },
    {
      "cell_type": "markdown",
      "metadata": {
        "id": "jnCp584NccJ8",
        "colab_type": "text"
      },
      "source": [
        "create a main function that calls the genetic algorithm"
      ]
    },
    {
      "cell_type": "code",
      "metadata": {
        "id": "zZ2vL1gocdeJ",
        "colab_type": "code",
        "colab": {}
      },
      "source": [
        "def genetic_algorithm(population, population_size, elite_size, mutation_rate, generations):\n",
        "\tpopulation = initial_population(population_size, population)\n",
        "\tprint('Initial route distance:', str(1 / rank_routes(population)[0][1]))\n",
        "\tfor i in range(generations):\n",
        "\t\tpopulation = next_generation(population, elite_size, mutation_rate)\n",
        "\tprint('Final route distance:', str(1 / rank_routes(population)[0][1]))\n",
        "\tbest_route_index = rank_routes(population)[0][0]\n",
        "\tbest_route = population[best_route_index]\n",
        "\treturn best_route"
      ],
      "execution_count": 0,
      "outputs": []
    },
    {
      "cell_type": "markdown",
      "metadata": {
        "id": "ADMC9uvucsx3",
        "colab_type": "text"
      },
      "source": [
        "# Solve and visualize the solution"
      ]
    },
    {
      "cell_type": "markdown",
      "metadata": {
        "id": "rSAWFHIpcvSf",
        "colab_type": "text"
      },
      "source": [
        "visualize each node"
      ]
    },
    {
      "cell_type": "code",
      "metadata": {
        "id": "Xs9EZVCGcwfE",
        "colab_type": "code",
        "outputId": "c53a0aa7-1467-42cd-a099-fd6ed325ef99",
        "colab": {
          "base_uri": "https://localhost:8080/",
          "height": 269
        }
      },
      "source": [
        "for i in range(nodes):\n",
        "\tplt.plot(node_list[i][0], node_list[i][1], 'ro')\n",
        "\tplt.gca().set_aspect('equal')"
      ],
      "execution_count": 0,
      "outputs": [
        {
          "output_type": "display_data",
          "data": {
            "image/png": "[encoded data removed]",
            "text/plain": [
              "<Figure size 432x288 with 1 Axes>"
            ]
          },
          "metadata": {
            "tags": []
          }
        }
      ]
    },
    {
      "cell_type": "code",
      "metadata": {
        "id": "8b5P0Lf0c5UH",
        "colab_type": "code",
        "outputId": "e70087fa-bc48-452d-cb09-df08d6d10b08",
        "colab": {
          "base_uri": "https://localhost:8080/",
          "height": 51
        }
      },
      "source": [
        "best_route = genetic_algorithm(population = node_list, population_size = 150, elite_size = 20, mutation_rate = 0.01, generations = 500)"
      ],
      "execution_count": 0,
      "outputs": [
        {
          "output_type": "stream",
          "text": [
            "Initial route distance: 235.1561716806459\n",
            "Final route distance: 118.66710560230295\n"
          ],
          "name": "stdout"
        }
      ]
    },
    {
      "cell_type": "markdown",
      "metadata": {
        "id": "zP-h9QxHdjm7",
        "colab_type": "text"
      },
      "source": [
        "visualize the path"
      ]
    },
    {
      "cell_type": "code",
      "metadata": {
        "id": "VtHQfzludmtJ",
        "colab_type": "code",
        "outputId": "a74215b5-9adf-40ec-b432-944238a29ff4",
        "colab": {
          "base_uri": "https://localhost:8080/",
          "height": 286
        }
      },
      "source": [
        "i = 0\n",
        "j = 1\n",
        "while j < len(node_list):\n",
        "\tplt.plot([best_route[i][0], best_route[j][0]], [best_route[i][1], best_route[j][1]], '-')\n",
        "\ti += 1\n",
        "\tj += 1\n",
        "plt.plot([best_route[-1][0], best_route[0][0]], [best_route[-1][1], best_route[0][1]], '-')"
      ],
      "execution_count": 0,
      "outputs": [
        {
          "output_type": "execute_result",
          "data": {
            "text/plain": [
              "[<matplotlib.lines.Line2D at 0x7f3dd97cf630>]"
            ]
          },
          "metadata": {
            "tags": []
          },
          "execution_count": 21
        },
        {
          "output_type": "display_data",
          "data": {
            "image/png": "[encoded data removed]",
            "text/plain": [
              "<Figure size 432x288 with 1 Axes>"
            ]
          },
          "metadata": {
            "tags": []
          }
        }
      ]
    },
    {
      "cell_type": "markdown",
      "metadata": {
        "id": "B2XT-EwedvhV",
        "colab_type": "text"
      },
      "source": [
        "show the plot"
      ]
    },
    {
      "cell_type": "code",
      "metadata": {
        "id": "h9DSiFsfdx_V",
        "colab_type": "code",
        "colab": {}
      },
      "source": [
        "plt.show()"
      ],
      "execution_count": 0,
      "outputs": []
    }
  ]
}