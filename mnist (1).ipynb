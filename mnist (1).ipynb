{
  "nbformat": 4,
  "nbformat_minor": 0,
  "metadata": {
    "colab": {
      "name": "mnist.ipynb",
      "version": "0.3.2",
      "provenance": [],
      "collapsed_sections": [],
      "toc_visible": true
    },
    "kernelspec": {
      "name": "python3",
      "display_name": "Python 3"
    },
    "accelerator": "GPU"
  },
  "cells": [
    {
      "cell_type": "markdown",
      "metadata": {
        "id": "xUYxjzLyVNaF",
        "colab_type": "text"
      },
      "source": [
        "# MNIST\n",
        "\n",
        "This script implements a feedforward neural network on the classic MNIST data set."
      ]
    },
    {
      "cell_type": "markdown",
      "metadata": {
        "id": "n1V8gxIjUl4O",
        "colab_type": "text"
      },
      "source": [
        "# Imports"
      ]
    },
    {
      "cell_type": "markdown",
      "metadata": {
        "id": "GUMRyQRpUuGs",
        "colab_type": "text"
      },
      "source": [
        "First, define our imported modules"
      ]
    },
    {
      "cell_type": "code",
      "metadata": {
        "id": "luaoJCUCUp7v",
        "colab_type": "code",
        "outputId": "5adfbc79-44cc-496a-8861-ff7a8db548c8",
        "colab": {
          "base_uri": "https://localhost:8080/",
          "height": 34
        }
      },
      "source": [
        "import tensorflow as tf\n",
        "from tensorflow import keras\n",
        "import numpy as np\n",
        "import matplotlib.pyplot as plt\n",
        "print(tf.__version__)"
      ],
      "execution_count": 1,
      "outputs": [
        {
          "output_type": "stream",
          "text": [
            "1.14.0\n"
          ],
          "name": "stdout"
        }
      ]
    },
    {
      "cell_type": "markdown",
      "metadata": {
        "id": "jidu5SIoVDOV",
        "colab_type": "text"
      },
      "source": [
        "# Define the dataset"
      ]
    },
    {
      "cell_type": "markdown",
      "metadata": {
        "id": "HvCtNl8kVgNQ",
        "colab_type": "text"
      },
      "source": [
        "Initialize the dataset -->\n",
        "Dataset of 60,000 28x28 pixel grayscale images of \n",
        "the 10 digits, along with a test set of 10,000 images."
      ]
    },
    {
      "cell_type": "code",
      "metadata": {
        "id": "eJLSolCaVhVM",
        "colab_type": "code",
        "colab": {}
      },
      "source": [
        "mnist = keras.datasets.mnist"
      ],
      "execution_count": 0,
      "outputs": []
    },
    {
      "cell_type": "markdown",
      "metadata": {
        "id": "iRXrdBPsVos1",
        "colab_type": "text"
      },
      "source": [
        "x_train, x_test: array of grayscale image data with \n",
        "shape (num_samples, 28, 28)\n",
        "\n",
        "y_train, y_test: array of digit labels \n",
        "(integers in range 0-9) with shape "
      ]
    },
    {
      "cell_type": "code",
      "metadata": {
        "id": "DtfSid3QVuBX",
        "colab_type": "code",
        "outputId": "18075d41-d326-43a0-9755-683c277511cc",
        "colab": {
          "base_uri": "https://localhost:8080/",
          "height": 51
        }
      },
      "source": [
        "(train_images, train_labels),(test_images, test_labels) = mnist.load_data()"
      ],
      "execution_count": 3,
      "outputs": [
        {
          "output_type": "stream",
          "text": [
            "Downloading data from https://storage.googleapis.com/tensorflow/tf-keras-datasets/mnist.npz\n",
            "11493376/11490434 [==============================] - 0s 0us/step\n"
          ],
          "name": "stdout"
        }
      ]
    },
    {
      "cell_type": "markdown",
      "metadata": {
        "id": "5QGU6sS2VwCH",
        "colab_type": "text"
      },
      "source": [
        "Each image is mapped to a single label. Since the class \n",
        "names are not included with the dataset, store them here \n",
        "to use later when plotting the images"
      ]
    },
    {
      "cell_type": "code",
      "metadata": {
        "id": "C6sDDn9TV3WD",
        "colab_type": "code",
        "colab": {}
      },
      "source": [
        "class_names = ['0', '1', '2', '3', '4','5', '6', '7', '8', '9']"
      ],
      "execution_count": 0,
      "outputs": []
    },
    {
      "cell_type": "markdown",
      "metadata": {
        "id": "4wkWlRsUWU1P",
        "colab_type": "text"
      },
      "source": [
        "# Understand dataset"
      ]
    },
    {
      "cell_type": "markdown",
      "metadata": {
        "id": "wPcSyeJcWXQW",
        "colab_type": "text"
      },
      "source": [
        "there are 60,000 images in the training set, with each image represented as 28 x 28 pixels"
      ]
    },
    {
      "cell_type": "code",
      "metadata": {
        "id": "5AQUsLpcWcNC",
        "colab_type": "code",
        "outputId": "3a09b2df-0e78-4a2f-a6c3-b7709ec03e5c",
        "colab": {
          "base_uri": "https://localhost:8080/",
          "height": 34
        }
      },
      "source": [
        "print('Shape of train_images:', train_images.shape)"
      ],
      "execution_count": 5,
      "outputs": [
        {
          "output_type": "stream",
          "text": [
            "Shape of train_images: (60000, 28, 28)\n"
          ],
          "name": "stdout"
        }
      ]
    },
    {
      "cell_type": "markdown",
      "metadata": {
        "id": "kkUeT-RkWlPh",
        "colab_type": "text"
      },
      "source": [
        "each label is an integer between 0 and 9"
      ]
    },
    {
      "cell_type": "code",
      "metadata": {
        "id": "0s2vHavUWp3Y",
        "colab_type": "code",
        "outputId": "19ce7c15-8bb3-4147-9148-e18be4602d28",
        "colab": {
          "base_uri": "https://localhost:8080/",
          "height": 34
        }
      },
      "source": [
        "print('train_labels:', train_labels)"
      ],
      "execution_count": 6,
      "outputs": [
        {
          "output_type": "stream",
          "text": [
            "train_labels: [5 0 4 ... 5 6 8]\n"
          ],
          "name": "stdout"
        }
      ]
    },
    {
      "cell_type": "markdown",
      "metadata": {
        "id": "2DlOmut4WsTv",
        "colab_type": "text"
      },
      "source": [
        "there are 10,000 images in the test set. Again, each image is represented as 28 x 28 pixels"
      ]
    },
    {
      "cell_type": "code",
      "metadata": {
        "id": "-qY2YKneWv8b",
        "colab_type": "code",
        "outputId": "4bd868ec-8e68-47a2-d229-5880d196d7c6",
        "colab": {
          "base_uri": "https://localhost:8080/",
          "height": 34
        }
      },
      "source": [
        "print('Shape of test_images:', test_images.shape)"
      ],
      "execution_count": 7,
      "outputs": [
        {
          "output_type": "stream",
          "text": [
            "Shape of test_images: (10000, 28, 28)\n"
          ],
          "name": "stdout"
        }
      ]
    },
    {
      "cell_type": "markdown",
      "metadata": {
        "id": "nhQIwrZwW3tw",
        "colab_type": "text"
      },
      "source": [
        "and the test set contains 10,000 images labels"
      ]
    },
    {
      "cell_type": "code",
      "metadata": {
        "id": "cALb-xvQW4R8",
        "colab_type": "code",
        "outputId": "95c0154b-085e-4d11-fa44-bffd7b51efeb",
        "colab": {
          "base_uri": "https://localhost:8080/",
          "height": 34
        }
      },
      "source": [
        "print('Length of test_labels:', len(test_labels))"
      ],
      "execution_count": 8,
      "outputs": [
        {
          "output_type": "stream",
          "text": [
            "Length of test_labels: 10000\n"
          ],
          "name": "stdout"
        }
      ]
    },
    {
      "cell_type": "markdown",
      "metadata": {
        "id": "HejGNI9IW-8_",
        "colab_type": "text"
      },
      "source": [
        "inspect the first image in the training set, you will see that the pixel values fall in the range of 0 to 255"
      ]
    },
    {
      "cell_type": "code",
      "metadata": {
        "id": "91eBIBOFXB3i",
        "colab_type": "code",
        "outputId": "83af1c24-7120-4bba-8dd7-205ae4891fc5",
        "colab": {
          "base_uri": "https://localhost:8080/",
          "height": 269
        }
      },
      "source": [
        "plt.figure()\n",
        "plt.imshow(train_images[0], cmap = plt.cm.binary)\n",
        "plt.colorbar()\n",
        "plt.show()"
      ],
      "execution_count": 9,
      "outputs": [
        {
          "output_type": "display_data",
          "data": {
            "image/png": "[encoded data removed]",
            "text/plain": [
              "<Figure size 432x288 with 2 Axes>"
            ]
          },
          "metadata": {
            "tags": []
          }
        }
      ]
    },
    {
      "cell_type": "markdown",
      "metadata": {
        "id": "dBY1IWkyXHZO",
        "colab_type": "text"
      },
      "source": [
        "Scale these values to a range of 0 to 1 before feeding\n",
        "to the neural network model. For this, we divide the \n",
        "values by 255. It's important that the training set and the \n",
        "testing set are preprocessed in the same way"
      ]
    },
    {
      "cell_type": "code",
      "metadata": {
        "id": "c1xXp6cxXJVT",
        "colab_type": "code",
        "colab": {}
      },
      "source": [
        "train_images = train_images / 255.0\n",
        "test_images = test_images / 255.0"
      ],
      "execution_count": 0,
      "outputs": []
    },
    {
      "cell_type": "markdown",
      "metadata": {
        "id": "eRfu3CU8XM0h",
        "colab_type": "text"
      },
      "source": [
        "Display the first 25 images from the training set and \n",
        "display the class name below each image. Verify that \n",
        "the data is in the correct format and we're ready to \n",
        "build and train the network"
      ]
    },
    {
      "cell_type": "code",
      "metadata": {
        "id": "KqIc8ZWEXNQt",
        "colab_type": "code",
        "outputId": "43ac5614-f4d4-4903-ac3d-641e84f64aa3",
        "colab": {
          "base_uri": "https://localhost:8080/",
          "height": 592
        }
      },
      "source": [
        "plt.figure(figsize=(10,10))\n",
        "for i in range(25):\n",
        "    plt.subplot(5,5,i+1)\n",
        "    plt.xticks([])\n",
        "    plt.yticks([])\n",
        "    plt.grid(False)\n",
        "    plt.imshow(train_images[i], cmap=plt.cm.binary)\n",
        "    plt.xlabel(class_names[train_labels[i]])\n",
        "plt.show()"
      ],
      "execution_count": 11,
      "outputs": [
        {
          "output_type": "display_data",
          "data": {
            "image/png": "[encoded data removed]",
            "text/plain": [
              "<Figure size 720x720 with 25 Axes>"
            ]
          },
          "metadata": {
            "tags": []
          }
        }
      ]
    },
    {
      "cell_type": "markdown",
      "metadata": {
        "id": "j_wgYeMXXaYK",
        "colab_type": "text"
      },
      "source": [
        "# Build the model"
      ]
    },
    {
      "cell_type": "markdown",
      "metadata": {
        "id": "VABL58a2XdJ0",
        "colab_type": "text"
      },
      "source": [
        "The basic building block of a neural network is the layer. \n",
        "Layers extract representations from the data fed into them. \n",
        "And, hopefully, these representations are more meaningful \n",
        "for the problem at hand"
      ]
    },
    {
      "cell_type": "code",
      "metadata": {
        "id": "tpaL_66fXe9t",
        "colab_type": "code",
        "outputId": "bee6d886-c540-44f9-a542-fc71e53d6e23",
        "colab": {
          "base_uri": "https://localhost:8080/",
          "height": 105
        }
      },
      "source": [
        "model = keras.Sequential([\n",
        "    keras.layers.Flatten(input_shape=(28, 28)), # input layer\n",
        "    keras.layers.Dense(128, activation=tf.nn.relu), # fully connected hidden layer\n",
        "    keras.layers.Dense(10, activation=tf.nn.softmax) # output layer\n",
        "])"
      ],
      "execution_count": 12,
      "outputs": [
        {
          "output_type": "stream",
          "text": [
            "WARNING: Logging before flag parsing goes to stderr.\n",
            "W0730 06:58:11.003378 140106750269312 deprecation.py:506] From /usr/local/lib/python3.6/dist-packages/tensorflow/python/ops/init_ops.py:1251: calling VarianceScaling.__init__ (from tensorflow.python.ops.init_ops) with dtype is deprecated and will be removed in a future version.\n",
            "Instructions for updating:\n",
            "Call initializer instance with the dtype argument instead of passing it to the constructor\n"
          ],
          "name": "stderr"
        }
      ]
    },
    {
      "cell_type": "markdown",
      "metadata": {
        "id": "TV4MKRcNXiHW",
        "colab_type": "text"
      },
      "source": [
        " The model's compile step:\n",
        "- Loss function —This measures how accurate the model \n",
        "is during training. We want to minimize this function \n",
        "to \"steer\" the model in the right direction\n",
        "- Optimizer —This is how the model is updated based \n",
        "on the data it sees and its loss function.\n",
        "- Metrics —Used to monitor the training and testing steps.\n",
        "We want the accuracy, the fraction of the images that \n",
        "are correctly classified"
      ]
    },
    {
      "cell_type": "code",
      "metadata": {
        "id": "n4A-FbzhXkCA",
        "colab_type": "code",
        "colab": {}
      },
      "source": [
        "model.compile(optimizer = 'adam',\n",
        "              loss = 'sparse_categorical_crossentropy',\n",
        "              metrics = ['accuracy'])"
      ],
      "execution_count": 0,
      "outputs": []
    },
    {
      "cell_type": "markdown",
      "metadata": {
        "id": "XU7ptcLpXm5J",
        "colab_type": "text"
      },
      "source": [
        "# Train the model"
      ]
    },
    {
      "cell_type": "markdown",
      "metadata": {
        "id": "E4KKuvrOXoOS",
        "colab_type": "text"
      },
      "source": [
        "Training the neural network model requires the following steps:\n",
        "1. Feed the training data to the model—in this example, \n",
        "the train_images and train_labels arrays.\n",
        "2. The model learns to associate images and labels.\n",
        "3. We ask the model to make predictions about a test set—in \n",
        "this example, the test_images array. We verify that the predictions \n",
        "match the labels from the test_labels array\n",
        "4. To start training, call the model.fit method—the model \n",
        "is \"fit\" to the training data"
      ]
    },
    {
      "cell_type": "code",
      "metadata": {
        "id": "U4E4hG7uXszK",
        "colab_type": "code",
        "outputId": "be30665e-6bdd-4d1e-dd67-ef0f9cbd2d43",
        "colab": {
          "base_uri": "https://localhost:8080/",
          "height": 102
        }
      },
      "source": [
        "model.fit(train_images, train_labels, epochs=2)"
      ],
      "execution_count": 14,
      "outputs": [
        {
          "output_type": "stream",
          "text": [
            "Epoch 1/2\n",
            "60000/60000 [==============================] - 6s 104us/sample - loss: 0.2564 - acc: 0.9281\n",
            "Epoch 2/2\n",
            "60000/60000 [==============================] - 6s 93us/sample - loss: 0.1160 - acc: 0.9657\n"
          ],
          "name": "stdout"
        },
        {
          "output_type": "execute_result",
          "data": {
            "text/plain": [
              "<tensorflow.python.keras.callbacks.History at 0x7f6cd7b6e518>"
            ]
          },
          "metadata": {
            "tags": []
          },
          "execution_count": 14
        }
      ]
    },
    {
      "cell_type": "markdown",
      "metadata": {
        "id": "pS2Gno9BYKyr",
        "colab_type": "text"
      },
      "source": [
        "# Evaluate the model"
      ]
    },
    {
      "cell_type": "markdown",
      "metadata": {
        "id": "Wl4FbcRKYPfd",
        "colab_type": "text"
      },
      "source": [
        ""
      ]
    },
    {
      "cell_type": "markdown",
      "metadata": {
        "id": "cHDSd04xYPgx",
        "colab_type": "text"
      },
      "source": [
        "Compare how the model performs on the test dataset"
      ]
    },
    {
      "cell_type": "code",
      "metadata": {
        "id": "wv6yweL6YRwk",
        "colab_type": "code",
        "outputId": "40ba8468-f23f-49dc-96ba-00897ad50b80",
        "colab": {
          "base_uri": "https://localhost:8080/",
          "height": 51
        }
      },
      "source": [
        "test_loss, test_acc = model.evaluate(test_images, test_labels)\n",
        "print('Test accuracy:', test_acc)"
      ],
      "execution_count": 15,
      "outputs": [
        {
          "output_type": "stream",
          "text": [
            "10000/10000 [==============================] - 1s 66us/sample - loss: 0.1014 - acc: 0.9682\n",
            "Test accuracy: 0.9682\n"
          ],
          "name": "stdout"
        }
      ]
    },
    {
      "cell_type": "markdown",
      "metadata": {
        "id": "mhaMDpdzYiPU",
        "colab_type": "text"
      },
      "source": [
        "# Make predictions"
      ]
    },
    {
      "cell_type": "markdown",
      "metadata": {
        "id": "iqBjW04mYjJl",
        "colab_type": "text"
      },
      "source": [
        "With the model trained, we can use it to make predictions about some images."
      ]
    },
    {
      "cell_type": "code",
      "metadata": {
        "id": "fLy90eeCYngM",
        "colab_type": "code",
        "colab": {}
      },
      "source": [
        "predictions = model.predict(test_images)"
      ],
      "execution_count": 0,
      "outputs": []
    },
    {
      "cell_type": "markdown",
      "metadata": {
        "id": "hOT-5AhWYqkv",
        "colab_type": "text"
      },
      "source": [
        "the model has predicted the label for each image in the testing set. Let's take a look at the first prediction"
      ]
    },
    {
      "cell_type": "code",
      "metadata": {
        "id": "YkRg00L-YsL-",
        "colab_type": "code",
        "outputId": "31521c55-8f40-4bc6-8e40-b6daba63f3a5",
        "colab": {
          "base_uri": "https://localhost:8080/",
          "height": 51
        }
      },
      "source": [
        "print('Prediction of the first image in test_images', predictions[0])"
      ],
      "execution_count": 17,
      "outputs": [
        {
          "output_type": "stream",
          "text": [
            "Prediction of the first image in test_images [8.0057853e-06 1.6778900e-07 3.1493211e-04 6.4872755e-03 2.4491639e-08\n",
            " 1.3678891e-05 7.6761036e-10 9.9307632e-01 5.5412718e-05 4.4152926e-05]\n"
          ],
          "name": "stdout"
        }
      ]
    },
    {
      "cell_type": "markdown",
      "metadata": {
        "id": "r3QUmE6FYuzv",
        "colab_type": "text"
      },
      "source": [
        "prediction is an array of 10 numbers. These describe the \"confidence\" \n",
        "of the model that the image corresponds to each of the 10 different \n",
        "digits. We can see which label has the highest confidence value"
      ]
    },
    {
      "cell_type": "code",
      "metadata": {
        "id": "hNjdGsFWYxTr",
        "colab_type": "code",
        "outputId": "d8cd78e1-e0ee-4b05-acf9-6113a1a3c83a",
        "colab": {
          "base_uri": "https://localhost:8080/",
          "height": 34
        }
      },
      "source": [
        "print('Prediction label for the first image:', np.argmax(predictions[0]))"
      ],
      "execution_count": 18,
      "outputs": [
        {
          "output_type": "stream",
          "text": [
            "Prediction label for the first image: 7\n"
          ],
          "name": "stdout"
        }
      ]
    },
    {
      "cell_type": "markdown",
      "metadata": {
        "id": "E5mzd_R4Y1pJ",
        "colab_type": "text"
      },
      "source": [
        "We can check the test label to see this is correct"
      ]
    },
    {
      "cell_type": "code",
      "metadata": {
        "id": "g3s35sDFY1-k",
        "colab_type": "code",
        "outputId": "eab63837-7860-4fb9-e288-4f153c1ba6db",
        "colab": {
          "base_uri": "https://localhost:8080/",
          "height": 34
        }
      },
      "source": [
        "print('Actual label for the first image:', test_labels[0])"
      ],
      "execution_count": 19,
      "outputs": [
        {
          "output_type": "stream",
          "text": [
            "Actual label for the first image: 7\n"
          ],
          "name": "stdout"
        }
      ]
    },
    {
      "cell_type": "markdown",
      "metadata": {
        "id": "kDm2VdxxY6Fx",
        "colab_type": "text"
      },
      "source": [
        "We can graph this to look at the full set of 10 class predictions"
      ]
    },
    {
      "cell_type": "code",
      "metadata": {
        "id": "zhhB0wqvY77S",
        "colab_type": "code",
        "colab": {}
      },
      "source": [
        "def plot_image(i, predictions_array, true_label, img):\n",
        "  predictions_array, true_label, img = predictions_array[i], true_label[i], img[i]\n",
        "  plt.grid(False)\n",
        "  plt.xticks([])\n",
        "  plt.yticks([])\n",
        "  \n",
        "  plt.imshow(img, cmap=plt.cm.binary)\n",
        "  \n",
        "  predicted_label = np.argmax(predictions_array)\n",
        "  if predicted_label == true_label:\n",
        "    color = 'blue'\n",
        "  else:\n",
        "    color = 'red'\n",
        "  \n",
        "  plt.xlabel(\"{} {:2.0f}% ({})\".format(class_names[predicted_label],\n",
        "                                100*np.max(predictions_array),\n",
        "                                class_names[true_label]),\n",
        "                                color=color)\n",
        "\n",
        "def plot_value_array(i, predictions_array, true_label):\n",
        "  predictions_array, true_label = predictions_array[i], true_label[i]\n",
        "  plt.grid(False)\n",
        "  plt.xticks([])\n",
        "  plt.yticks([])\n",
        "  thisplot = plt.bar(range(10), predictions_array, color=\"#777777\")\n",
        "  plt.ylim([0, 1])\n",
        "  predicted_label = np.argmax(predictions_array)\n",
        "  \n",
        "  thisplot[predicted_label].set_color('red')\n",
        "  thisplot[true_label].set_color('blue')\n"
      ],
      "execution_count": 0,
      "outputs": []
    },
    {
      "cell_type": "markdown",
      "metadata": {
        "id": "e0L0MrzKZBaZ",
        "colab_type": "text"
      },
      "source": [
        "Let's look at the 0th image, predictions, and prediction array"
      ]
    },
    {
      "cell_type": "code",
      "metadata": {
        "id": "N2yJx1_6ZC3i",
        "colab_type": "code",
        "outputId": "a33a867d-9c93-4a4d-e434-e49cfd4d316d",
        "colab": {
          "base_uri": "https://localhost:8080/",
          "height": 206
        }
      },
      "source": [
        "i = 0\n",
        "plt.figure(figsize=(6,3))\n",
        "plt.subplot(1,2,1)\n",
        "plot_image(i, predictions, test_labels, test_images)\n",
        "plt.subplot(1,2,2)\n",
        "plot_value_array(i, predictions,  test_labels)\n",
        "plt.show()"
      ],
      "execution_count": 21,
      "outputs": [
        {
          "output_type": "display_data",
          "data": {
            "image/png": "[encoded data removed]",
            "text/plain": [
              "<Figure size 432x216 with 2 Axes>"
            ]
          },
          "metadata": {
            "tags": []
          }
        }
      ]
    },
    {
      "cell_type": "markdown",
      "metadata": {
        "id": "sL15F8ibZPCD",
        "colab_type": "text"
      },
      "source": [
        "Let's plot several images with their predictions. Correct \n",
        "prediction labels are blue and incorrect prediction labels are \n",
        "red. The number gives the percent (out of 100) for the predicted \n",
        "label. Note that it can be wrong even when very confident."
      ]
    },
    {
      "cell_type": "code",
      "metadata": {
        "id": "jsmnZerFZRGR",
        "colab_type": "code",
        "outputId": "5031db10-e938-4810-b57e-d525613211a0",
        "colab": {
          "base_uri": "https://localhost:8080/",
          "height": 592
        }
      },
      "source": [
        "num_rows = 5\n",
        "num_cols = 3\n",
        "num_images = num_rows*num_cols\n",
        "plt.figure(figsize=(2*2*num_cols, 2*num_rows))\n",
        "for i in range(num_images):\n",
        "  plt.subplot(num_rows, 2*num_cols, 2*i+1)\n",
        "  plot_image(i, predictions, test_labels, test_images)\n",
        "  plt.subplot(num_rows, 2*num_cols, 2*i+2)\n",
        "  plot_value_array(i, predictions, test_labels)\n",
        "plt.show()"
      ],
      "execution_count": 22,
      "outputs": [
        {
          "output_type": "display_data",
          "data": {
            "image/png": "[encoded data removed]",
            "text/plain": [
              "<Figure size 864x720 with 30 Axes>"
            ]
          },
          "metadata": {
            "tags": []
          }
        }
      ]
    },
    {
      "cell_type": "markdown",
      "metadata": {
        "id": "oyzRI7dfZVzA",
        "colab_type": "text"
      },
      "source": [
        "Finally, use the trained model to make a prediction about a single image"
      ]
    },
    {
      "cell_type": "code",
      "metadata": {
        "id": "QrOn7i7hZWQY",
        "colab_type": "code",
        "outputId": "d267aacc-9473-468c-8c54-398e35ae069f",
        "colab": {
          "base_uri": "https://localhost:8080/",
          "height": 34
        }
      },
      "source": [
        "img = test_images[0]\n",
        "print('Shape of the test image:', img.shape)"
      ],
      "execution_count": 23,
      "outputs": [
        {
          "output_type": "stream",
          "text": [
            "Shape of the test image: (28, 28)\n"
          ],
          "name": "stdout"
        }
      ]
    },
    {
      "cell_type": "markdown",
      "metadata": {
        "id": "yQ2jqeQhZaYT",
        "colab_type": "text"
      },
      "source": [
        "tf.keras models are optimized to make predictions on a \n",
        "batch, or collection,of examples at once. So even though \n",
        "we're using a single image, we need to add it to a list:"
      ]
    },
    {
      "cell_type": "code",
      "metadata": {
        "id": "PfA0BzoRZa5i",
        "colab_type": "code",
        "outputId": "535f4173-22a4-4a9d-e5f9-cd38b0e7bce3",
        "colab": {
          "base_uri": "https://localhost:8080/",
          "height": 34
        }
      },
      "source": [
        "img = (np.expand_dims(img,0)) # add the image to a batch where it's the only member.\n",
        "print('Shape of the bactch test image:', img.shape)"
      ],
      "execution_count": 24,
      "outputs": [
        {
          "output_type": "stream",
          "text": [
            "Shape of the bactch test image: (1, 28, 28)\n"
          ],
          "name": "stdout"
        }
      ]
    },
    {
      "cell_type": "markdown",
      "metadata": {
        "id": "lR9f7sJpZdjY",
        "colab_type": "text"
      },
      "source": [
        "Now predict the image"
      ]
    },
    {
      "cell_type": "code",
      "metadata": {
        "id": "B5U85482Zfq6",
        "colab_type": "code",
        "outputId": "d7faaaa7-8521-4426-e5cf-be616591edb2",
        "colab": {
          "base_uri": "https://localhost:8080/",
          "height": 51
        }
      },
      "source": [
        "predictions_single = model.predict(img)\n",
        "print('The predicted confidence array for the image is:', predictions_single)"
      ],
      "execution_count": 25,
      "outputs": [
        {
          "output_type": "stream",
          "text": [
            "The predicted confidence array for the image is: [[8.0057780e-06 1.6778900e-07 3.1493179e-04 6.4872694e-03 2.4491639e-08\n",
            "  1.3678891e-05 7.6761181e-10 9.9307632e-01 5.5412667e-05 4.4152886e-05]]\n"
          ],
          "name": "stdout"
        }
      ]
    },
    {
      "cell_type": "markdown",
      "metadata": {
        "id": "964ZC4rjZkeG",
        "colab_type": "text"
      },
      "source": [
        "display the confidence plot for the predicted image"
      ]
    },
    {
      "cell_type": "code",
      "metadata": {
        "id": "1NAP_xdLZk-T",
        "colab_type": "code",
        "outputId": "25e5a2af-e969-45a7-b4cb-d21dda34e84e",
        "colab": {
          "base_uri": "https://localhost:8080/",
          "height": 270
        }
      },
      "source": [
        "plot_value_array(0, predictions_single, test_labels)\n",
        "plt.xticks(range(10), class_names, rotation=45)\n",
        "plt.show()"
      ],
      "execution_count": 26,
      "outputs": [
        {
          "output_type": "display_data",
          "data": {
            "image/png": "[encoded data removed]",
            "text/plain": [
              "<Figure size 432x288 with 1 Axes>"
            ]
          },
          "metadata": {
            "tags": []
          }
        }
      ]
    },
    {
      "cell_type": "markdown",
      "metadata": {
        "id": "2jy3vLmcZn4G",
        "colab_type": "text"
      },
      "source": [
        "model.predict returns a list of lists, one for each image in the batch of data. Grab the predictions for our (only) image in the batch"
      ]
    },
    {
      "cell_type": "code",
      "metadata": {
        "id": "OKf-2gJaZqr2",
        "colab_type": "code",
        "outputId": "a6e3faa4-327e-4a41-884f-ea2638cc2990",
        "colab": {
          "base_uri": "https://localhost:8080/",
          "height": 34
        }
      },
      "source": [
        "prediction_result = np.argmax(predictions_single[0])\n",
        "print('The predicted label for the image is:', prediction_result)"
      ],
      "execution_count": 27,
      "outputs": [
        {
          "output_type": "stream",
          "text": [
            "The predicted label for the image is: 7\n"
          ],
          "name": "stdout"
        }
      ]
    }
  ]
}